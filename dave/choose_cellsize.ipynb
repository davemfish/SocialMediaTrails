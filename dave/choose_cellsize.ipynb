{
 "cells": [
  {
   "cell_type": "code",
   "execution_count": 2,
   "metadata": {
    "collapsed": true
   },
   "outputs": [],
   "source": [
    "# import geopandas as gpd"
   ]
  },
  {
   "cell_type": "code",
   "execution_count": 24,
   "metadata": {},
   "outputs": [
    {
     "data": {
      "text/plain": [
       "True"
      ]
     },
     "execution_count": 24,
     "metadata": {},
     "output_type": "execute_result"
    }
   ],
   "source": [
    "\n",
    "\n",
    "driver = ogr.GetDriverByName('ESRI Shapefile')\n",
    "    if os.path.exists(out_grid_vector_path):\n",
    "        driver.DeleteDataSource(out_grid_vector_path)\n",
    "\n",
    "    vector = ogr.Open(vector_path)\n",
    "    vector_layer = vector.GetLayer()\n",
    "    spat_ref = vector_layer.GetSpatialRef()\n",
    "\n",
    "    original_vector_shapes = []\n",
    "    for feature in vector_layer:\n",
    "        wkt_feat = shapely.wkt.loads(feature.geometry().ExportToWkt())\n",
    "        original_vector_shapes.append(wkt_feat)\n",
    "    vector_layer.ResetReading()\n",
    "    original_polygon = shapely.prepared.prep(\n",
    "        shapely.ops.cascaded_union(original_vector_shapes))\n",
    "\n",
    "    out_grid_vector = driver.CreateDataSource(out_grid_vector_path)\n",
    "    grid_layer = out_grid_vector.CreateLayer(\n",
    "        'grid', spat_ref, ogr.wkbPolygon)\n",
    "    grid_layer_defn = grid_layer.GetLayerDefn()\n",
    "\n",
    "    extent = vector_layer.GetExtent()  # minx maxx miny maxy"
   ]
  },
  {
   "cell_type": "code",
   "execution_count": 6,
   "metadata": {
    "collapsed": true
   },
   "outputs": [],
   "source": [
    "def choose_cellsize(shp_path, ncells):\n",
    "    shp = gpd.read_file(shp_path)\n",
    "    bbox = shp.bounds\n",
    "    width = bbox.maxx - bbox.minx\n",
    "    height = bbox.maxy - bbox.miny\n",
    "    if (width > height)[0]:\n",
    "        cs = width/ncells\n",
    "    else:\n",
    "        cs = height/ncells\n",
    "    return(cs[0])"
   ]
  },
  {
   "cell_type": "code",
   "execution_count": 7,
   "metadata": {},
   "outputs": [],
   "source": [
    "shp_path = '../data/rainierNP_boundary_utm.shp'\n",
    "result = choose_cellsize('../data/rainierNP_boundary_utm.shp', 100)"
   ]
  },
  {
   "cell_type": "code",
   "execution_count": 8,
   "metadata": {},
   "outputs": [
    {
     "data": {
      "text/plain": [
       "numpy.float64"
      ]
     },
     "execution_count": 8,
     "metadata": {},
     "output_type": "execute_result"
    }
   ],
   "source": [
    "type(result)"
   ]
  },
  {
   "cell_type": "code",
   "execution_count": null,
   "metadata": {
    "collapsed": true
   },
   "outputs": [],
   "source": []
  }
 ],
 "metadata": {
  "kernelspec": {
   "display_name": "Python 3",
   "language": "python",
   "name": "python3"
  },
  "language_info": {
   "codemirror_mode": {
    "name": "ipython",
    "version": 3
   },
   "file_extension": ".py",
   "mimetype": "text/x-python",
   "name": "python",
   "nbconvert_exporter": "python",
   "pygments_lexer": "ipython3",
   "version": "3.6.2"
  }
 },
 "nbformat": 4,
 "nbformat_minor": 2
}
