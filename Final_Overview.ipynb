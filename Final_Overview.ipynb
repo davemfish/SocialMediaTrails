{
 "cells": [
  {
   "cell_type": "markdown",
   "metadata": {},
   "source": [
    "# Social Media Trails in National Parks\n"
   ]
  },
  {
   "cell_type": "markdown",
   "metadata": {},
   "source": [
    "#### Our group looked used Flickr data to map Photo User Days in a selected group of National Parks"
   ]
  },
  {
   "cell_type": "markdown",
   "metadata": {},
   "source": [
    "#### Here we can add information about Invest and Matt's work selecting hex bin size and createing subsets of data for our NPs"
   ]
  },
  {
   "cell_type": "markdown",
   "metadata": {},
   "source": [
    "#### Here we can add information about Mark & Chris' work using matplotlib to create plots showing a series of plots for each NP"
   ]
  },
  {
   "cell_type": "markdown",
   "metadata": {},
   "source": [
    "#### We thought it would be interesting to shoe Photo User Days over a temporal scale. Since flickr likey increased/decreased in popularity over the range of this dataset (2004-2014), we decided to look at an aggregate of monthly Photo User Days in an animation.\n",
    "\n",
    "####Here I'll add code to show the animation for seasonal changes in flickr use - hopefull pulling data from at least two NP that will vary in seasonal visitation - Glacier vs. Big Bend? "
   ]
  },
  {
   "cell_type": "code",
   "execution_count": null,
   "metadata": {
    "collapsed": true
   },
   "outputs": [],
   "source": []
  }
 ],
 "metadata": {
  "kernelspec": {
   "display_name": "Python 3",
   "language": "python",
   "name": "python3"
  },
  "language_info": {
   "codemirror_mode": {
    "name": "ipython",
    "version": 3
   },
   "file_extension": ".py",
   "mimetype": "text/x-python",
   "name": "python",
   "nbconvert_exporter": "python",
   "pygments_lexer": "ipython3",
   "version": "3.6.2"
  }
 },
 "nbformat": 4,
 "nbformat_minor": 2
}
